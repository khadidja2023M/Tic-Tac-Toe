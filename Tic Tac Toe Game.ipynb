{
 "cells": [
  {
   "cell_type": "code",
   "execution_count": null,
   "id": "3a96e078",
   "metadata": {},
   "outputs": [
    {
     "name": "stdout",
     "output_type": "stream",
     "text": [
      "     \n",
      "     \n",
      "     \n"
     ]
    }
   ],
   "source": [
    "\n",
    "# This function prints the game board\n",
    "def print_board(board):\n",
    "    for row in board:\n",
    "        # It joins each element in the row with a space and prints it\n",
    "        print(\" \".join(row))\n",
    "\n",
    "# This function handles the player's move\n",
    "def player_move(board, player):\n",
    "    position = input(f\"Player {player}, enter your move in the format 'row column': \")\n",
    "    try:\n",
    "        row, col = map(int, position.split())\n",
    "        if row in range(3) and col in range(3):\n",
    "            if board[row][col] == \" \":\n",
    "                board[row][col] = player\n",
    "            else:\n",
    "                print(\"Invalid move. Cell is already filled. Please try again.\")\n",
    "                player_move(board, player)\n",
    "        else:\n",
    "            print(\"Invalid move. Position out of range. Please try again.\")\n",
    "            player_move(board, player)\n",
    "    except ValueError:\n",
    "        print(\"Invalid input. Please enter your move in the format 'row column' with numeric values.\")\n",
    "        player_move(board, player)\n",
    "\n",
    "\n",
    "# This function checks if the current player has won the game\n",
    "def check_win(board, player):\n",
    "    # It defines the winning conditions: three in a row in rows, columns or diagonals\n",
    "    win_conditions = [\n",
    "        [board[i][0] == player and board[i][1] == player and board[i][2] == player for i in range(3)],  # rows\n",
    "        [board[0][i] == player and board[1][i] == player and board[2][i] == player for i in range(3)],  # columns\n",
    "        [board[0][0] == player and board[1][1] == player and board[2][2] == player],  # diagonal\n",
    "        [board[0][2] == player and board[1][1] == player and board[2][0] == player]]   # diagonal\n",
    "    # It checks if any of the winning conditions are met\n",
    "    return any(any(win) for win in win_conditions)\n",
    "\n",
    "# This function checks if the game is a tie\n",
    "def check_tie(board):\n",
    "    # It checks if all cells on the board are filled\n",
    "    return all(all(cell != \" \" for cell in row) for row in board)\n",
    "\n",
    "# This is the main game function\n",
    "def game():\n",
    "    #initializes an empty game board\n",
    "    board = [[\" \"]*3 for _ in range(3)]\n",
    "    # It sets the current player to X\n",
    "    current_player = \"X\"\n",
    "\n",
    "    #starts the game loop\n",
    "    while True:\n",
    "        #prints the current state of the game board\n",
    "        print_board(board)\n",
    "        #asks the current player for their move and places it on the board\n",
    "        player_move(board, current_player)\n",
    "        \n",
    "        #checks if the current player has won the game\n",
    "        if check_win(board, current_player):\n",
    "            print_board(board)\n",
    "            print(f\"Player {current_player} wins!\")\n",
    "            break\n",
    "        #checks if the game is a tie\n",
    "        elif check_tie(board):\n",
    "            print_board(board)\n",
    "            print(\"It's a tie!\")\n",
    "            break\n",
    "        else:\n",
    "            # If neither player has won and the game is not a tie, it switches to the other player\n",
    "            current_player = \"O\" if current_player == \"X\" else \"X\"\n",
    "\n",
    "#runs the game\n",
    "game()\n"
   ]
  },
  {
   "cell_type": "code",
   "execution_count": null,
   "id": "9d471cf4",
   "metadata": {},
   "outputs": [],
   "source": []
  }
 ],
 "metadata": {
  "kernelspec": {
   "display_name": "Python 3 (ipykernel)",
   "language": "python",
   "name": "python3"
  },
  "language_info": {
   "codemirror_mode": {
    "name": "ipython",
    "version": 3
   },
   "file_extension": ".py",
   "mimetype": "text/x-python",
   "name": "python",
   "nbconvert_exporter": "python",
   "pygments_lexer": "ipython3",
   "version": "3.9.13"
  }
 },
 "nbformat": 4,
 "nbformat_minor": 5
}
